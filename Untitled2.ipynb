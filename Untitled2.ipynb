{
 "cells": [
  {
   "cell_type": "code",
   "execution_count": null,
   "metadata": {},
   "outputs": [],
   "source": []
  },
  {
   "cell_type": "code",
   "execution_count": null,
   "metadata": {},
   "outputs": [],
   "source": []
  },
  {
   "cell_type": "code",
   "execution_count": null,
   "metadata": {},
   "outputs": [],
   "source": []
  },
  {
   "cell_type": "code",
   "execution_count": null,
   "metadata": {},
   "outputs": [],
   "source": []
  },
  {
   "cell_type": "code",
   "execution_count": null,
   "metadata": {},
   "outputs": [],
   "source": [
    "# 1. past_agents_traj : (Num obv agents in batch_i X 20 X 2)\n",
    "# 2. past_agents_traj_len : (Num obv agents in batch_i, )\n",
    "# 3. future_agents_traj : (Num pred agents in batch_i X 20 X 2)\n",
    "# 4. future_agents_traj_len : (Num pred agents in batch_i, )\n",
    "# 5. future_agent_masks : (Num obv agents in batch_i)\n",
    "# 6. decode_rel_pos: (Num pred agents in batch_i X 2)\n",
    "# 7. decode_start_pos: (Num pred agents in batch_i X 2)\n",
    "# 8. map_image : (3 X 224 X 224)\n",
    "# 9. scene ID: (string)"
   ]
  },
  {
   "cell_type": "code",
   "execution_count": null,
   "metadata": {},
   "outputs": [],
   "source": []
  },
  {
   "cell_type": "code",
   "execution_count": 33,
   "metadata": {},
   "outputs": [
    {
     "data": {
      "text/plain": [
       "77.24257425742574"
      ]
     },
     "execution_count": 33,
     "metadata": {},
     "output_type": "execute_result"
    }
   ],
   "source": [
    "31206/404"
   ]
  },
  {
   "cell_type": "code",
   "execution_count": 1,
   "metadata": {},
   "outputs": [
    {
     "name": "stdout",
     "output_type": "stream",
     "text": [
      "======\n",
      "Loading NuScenes tables for version v1.0-mini...\n",
      "23 category,\n",
      "8 attribute,\n",
      "4 visibility,\n",
      "911 instance,\n",
      "12 sensor,\n",
      "120 calibrated_sensor,\n",
      "31206 ego_pose,\n",
      "8 log,\n",
      "10 scene,\n",
      "404 sample,\n",
      "31206 sample_data,\n",
      "18538 sample_annotation,\n",
      "4 map,\n",
      "Done loading in 0.326 seconds.\n",
      "======\n",
      "Reverse indexing ...\n",
      "Done reverse indexing in 0.1 seconds.\n",
      "======\n"
     ]
    }
   ],
   "source": [
    "from nuscenes import NuScenes\n",
    "\n",
    "from rasterization_q10.input_representation.static_layers import StaticLayerRasterizer\n",
    "from rasterization_q10.input_representation.agents import AgentBoxesWithFadedHistory\n",
    "from rasterization_q10.input_representation.interface import InputRepresentation\n",
    "from rasterization_q10.input_representation.combinators import Rasterizer\n",
    "from rasterization_q10 import PredictHelper\n",
    "\n",
    "DATAROOT='/datasets/nuscene/v1.0-mini'\n",
    "\n",
    "nus = NuScenes('v1.0-mini', dataroot=DATAROOT)\n",
    "helper = PredictHelper(nus)"
   ]
  },
  {
   "cell_type": "code",
   "execution_count": 22,
   "metadata": {},
   "outputs": [],
   "source": [
    "scene1 = nus.scene[0]\n",
    "\n",
    "sample1 = nus.get('sample', scene1['first_sample_token'])\n",
    "sample1_lidar = nus.get('sample_data', sample1['data']['LIDAR_TOP'])\n",
    "anns1 = sample1['anns']\n",
    "agent1 = nus.get('sample_annotation', anns1[0])\n",
    "lidar_sample_data1 = nus.get('sample_data', sample1['data']['LIDAR_TOP'])\n",
    "ego_pose1 = nus.get('ego_pose', lidar_sample_data1['ego_pose_token'])"
   ]
  },
  {
   "cell_type": "code",
   "execution_count": 6,
   "metadata": {},
   "outputs": [],
   "source": [
    "def get_specific_class_agent(sample_token, class_name='vehicle'):\n",
    "    s =  nus.get('sample', sample_token)\n",
    "    anns = s['anns']\n",
    "    \n",
    "    for i in range(len(anns)):\n",
    "        agent = nus.get('sample_annotation', anns[i])\n",
    "        \n",
    "        if agent['category_name'].split('.')[0] == class_name:\n",
    "            return agent\n",
    "\n",
    "    return None"
   ]
  },
  {
   "cell_type": "code",
   "execution_count": 18,
   "metadata": {},
   "outputs": [
    {
     "data": {
      "text/plain": [
       "{'token': '924ee6ac1fed440a9d9e3720aac635a0',\n",
       " 'sample_token': 'ca9a282c9e77460f8360f564131a8af5',\n",
       " 'instance_token': 'bd26c2cdb22d4bb1834e808c89128898',\n",
       " 'visibility_token': '3',\n",
       " 'attribute_tokens': ['c3246a1e22a14fcb878aa61e69ae3329'],\n",
       " 'translation': [353.794, 1132.355, 0.602],\n",
       " 'size': [2.011, 4.633, 1.573],\n",
       " 'rotation': [0.9797276292877292, 0.0, 0.0, -0.20033415188191459],\n",
       " 'prev': '',\n",
       " 'next': 'f0cbd9dbafd74e20bcf6dd0357c97f59',\n",
       " 'num_lidar_pts': 5,\n",
       " 'num_radar_pts': 0,\n",
       " 'category_name': 'vehicle.car'}"
      ]
     },
     "execution_count": 18,
     "metadata": {},
     "output_type": "execute_result"
    }
   ],
   "source": [
    "agent = get_specific_class_agent(sample1['token'], 'vehicle')\n",
    "agent"
   ]
  },
  {
   "cell_type": "code",
   "execution_count": 23,
   "metadata": {},
   "outputs": [],
   "source": [
    "sampling_time = 3\n",
    "\n",
    "instance_token = agent['instance_token']\n",
    "sample_token = sample1['token']\n",
    "\n",
    "annotation = helper.get_sample_annotation(instance_token, sample_token)\n",
    "\n",
    "# 에이전트 주행경로\n",
    "xy_global = agent['translation']\n",
    "past_xy_global = helper.get_past_for_agent(instance_token, sample_token, seconds=sampling_time, in_agent_frame=False)\n",
    "future_xy_global = helper.get_future_for_agent(instance_token, sample_token, seconds=sampling_time, in_agent_frame=False)\n",
    "\n",
    "# 에이전트 주행상태\n",
    "vel = helper.get_velocity_for_agent(instance_token, sample_token)\n",
    "accel = helper.get_acceleration_for_agent(instance_token, sample_token)\n",
    "yaw_rate = helper.get_heading_change_rate_for_agent(instance_token, sample_token)\n"
   ]
  },
  {
   "cell_type": "code",
   "execution_count": null,
   "metadata": {},
   "outputs": [],
   "source": []
  },
  {
   "cell_type": "code",
   "execution_count": null,
   "metadata": {},
   "outputs": [],
   "source": []
  },
  {
   "cell_type": "code",
   "execution_count": null,
   "metadata": {},
   "outputs": [],
   "source": []
  },
  {
   "cell_type": "code",
   "execution_count": null,
   "metadata": {},
   "outputs": [],
   "source": []
  },
  {
   "cell_type": "code",
   "execution_count": null,
   "metadata": {},
   "outputs": [],
   "source": []
  },
  {
   "cell_type": "code",
   "execution_count": null,
   "metadata": {},
   "outputs": [],
   "source": []
  },
  {
   "cell_type": "code",
   "execution_count": null,
   "metadata": {},
   "outputs": [],
   "source": []
  },
  {
   "cell_type": "code",
   "execution_count": null,
   "metadata": {},
   "outputs": [],
   "source": []
  },
  {
   "cell_type": "code",
   "execution_count": null,
   "metadata": {},
   "outputs": [],
   "source": []
  },
  {
   "cell_type": "code",
   "execution_count": null,
   "metadata": {},
   "outputs": [],
   "source": []
  },
  {
   "cell_type": "code",
   "execution_count": null,
   "metadata": {},
   "outputs": [],
   "source": []
  },
  {
   "cell_type": "code",
   "execution_count": null,
   "metadata": {},
   "outputs": [],
   "source": []
  }
 ],
 "metadata": {
  "kernelspec": {
   "display_name": "intelpro",
   "language": "python",
   "name": "intelpro"
  },
  "language_info": {
   "codemirror_mode": {
    "name": "ipython",
    "version": 3
   },
   "file_extension": ".py",
   "mimetype": "text/x-python",
   "name": "python",
   "nbconvert_exporter": "python",
   "pygments_lexer": "ipython3",
   "version": "3.7.9"
  }
 },
 "nbformat": 4,
 "nbformat_minor": 4
}
